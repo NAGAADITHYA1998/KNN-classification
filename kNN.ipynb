{
 "cells": [
  {
   "cell_type": "code",
   "execution_count": 1,
   "metadata": {},
   "outputs": [],
   "source": [
    "import pandas as pd\n",
    "import numpy as np\n",
    "#import matplotlib as plt\n",
    "#import random "
   ]
  },
  {
   "cell_type": "code",
   "execution_count": 2,
   "metadata": {},
   "outputs": [],
   "source": [
    "with open('features.txt') as f:\n",
    "    lines = [line.rstrip() for line in f]"
   ]
  },
  {
   "cell_type": "code",
   "execution_count": 3,
   "metadata": {},
   "outputs": [],
   "source": [
    "X_train = pd.read_csv('X_train.txt',delim_whitespace=True,names=lines)\n",
    "Y_train=pd.read_csv('Y_train.txt',delim_whitespace=True,names=[\"class\"])\n",
    "X_train=np.array(X_train)\n",
    "Y_train=np.array(Y_train)\n",
    "Y_train=Y_train.reshape(len(X_train))"
   ]
  },
  {
   "cell_type": "code",
   "execution_count": 4,
   "metadata": {
    "scrolled": true
   },
   "outputs": [],
   "source": [
    "X_test = pd.read_csv('X_test.txt',delim_whitespace=True,names=lines)\n",
    "Y_test=pd.read_csv('Y_test.txt',delim_whitespace=True,names=[\"class\"])\n",
    "X_test=np.array(X_test)\n",
    "Y_test=np.array(Y_test)\n",
    "Y_test=Y_test.reshape(len(X_test))\n"
   ]
  },
  {
   "cell_type": "code",
   "execution_count": 5,
   "metadata": {},
   "outputs": [
    {
     "name": "stdout",
     "output_type": "stream",
     "text": [
      "correctly classified count: 2672\n",
      "clasifications count\n",
      "[[486.   0.  10.   0.   0.   0.]\n",
      " [ 36. 431.   4.   0.   0.   0.]\n",
      " [ 51.  41. 328.   0.   0.   0.]\n",
      " [  0.   4.   0. 409.  78.   0.]\n",
      " [  0.   0.   0.  47. 485.   0.]\n",
      " [  0.   0.   0.   2.   2. 533.]]\n"
     ]
    }
   ],
   "source": [
    "correctclass=0\n",
    "errors=[]\n",
    "classification=np.zeros((6,6))   #initialize these as no of possible classification clusters\n",
    "for i in range(len(X_test)):\n",
    "    kind=np.zeros(6)\n",
    "    dist=np.sum((X_train-X_test[i])**2,axis=1)\n",
    "    a=np.argsort(dist)[:10]\n",
    "    #print(a)\n",
    "    for x in a :\n",
    "        #print(Y_train[x])\n",
    "        kind[Y_train[x]-1]+=1\n",
    "    \n",
    "    classified = (np.argmax(kind))+1\n",
    "    #print(classified,Y_test[i])\n",
    "    if classified ==Y_test[i]:\n",
    "        correctclass+=1\n",
    "    else :\n",
    "        errors.append([i,Y_test[i],classified])\n",
    "    classification[Y_test[i]-1][classified-1]+=1\n",
    "\n",
    "print(\"correctly classified count:\",correctclass) \n",
    "#print(\"error classifications:\",errors)\n",
    "print(\"clasifications count\")\n",
    "print(classification)"
   ]
  },
  {
   "cell_type": "markdown",
   "metadata": {},
   "source": [
    "Here all the tuples in the errors are  in the format [iteration(data point row number ),actual,classified as ] "
   ]
  }
 ],
 "metadata": {
  "kernelspec": {
   "display_name": "Python 3",
   "language": "python",
   "name": "python3"
  },
  "language_info": {
   "codemirror_mode": {
    "name": "ipython",
    "version": 3
   },
   "file_extension": ".py",
   "mimetype": "text/x-python",
   "name": "python",
   "nbconvert_exporter": "python",
   "pygments_lexer": "ipython3",
   "version": "3.7.6"
  }
 },
 "nbformat": 4,
 "nbformat_minor": 4
}
